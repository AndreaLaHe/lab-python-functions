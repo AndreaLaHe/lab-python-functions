{
 "cells": [
  {
   "cell_type": "markdown",
   "id": "25d7736c-ba17-4aff-b6bb-66eba20fbf4e",
   "metadata": {},
   "source": [
    "# Lab | Functions"
   ]
  },
  {
   "cell_type": "markdown",
   "id": "0c581062-8967-4d93-b06e-62833222f930",
   "metadata": {
    "tags": []
   },
   "source": [
    "## Exercise: Managing Customer Orders with Functions\n",
    "\n",
    "In the previous exercise, you improved the code for managing customer orders by using loops and flow control. Now, let's take it a step further and refactor the code by introducing functions.\n",
    "\n",
    "Follow the steps below to complete the exercise:\n",
    "\n",
    "1. Define a function named `initialize_inventory` that takes `products` as a parameter. Inside the function, implement the code for initializing the inventory dictionary using a loop and user input.\n",
    "\n",
    "2. Define a function named `get_customer_orders` that takes no parameters. Inside the function, implement the code for prompting the user to enter the product names using a loop. The function should return the `customer_orders` set.\n",
    "\n",
    "3. Define a function named `update_inventory` that takes `customer_orders` and `inventory` as parameters. Inside the function, implement the code for updating the inventory dictionary based on the customer orders.\n",
    "\n",
    "4. Define a function named `calculate_order_statistics` that takes `customer_orders` and `products` as parameters. Inside the function, implement the code for calculating the order statistics (total products ordered, and percentage of unique products ordered). The function should return these values.\n",
    "\n",
    "5. Define a function named `print_order_statistics` that takes `order_statistics` as a parameter. Inside the function, implement the code for printing the order statistics.\n",
    "\n",
    "6. Define a function named `print_updated_inventory` that takes `inventory` as a parameter. Inside the function, implement the code for printing the updated inventory.\n",
    "\n",
    "7. Call the functions in the appropriate sequence to execute the program and manage customer orders.\n",
    "\n",
    "Hints for functions:\n",
    "\n",
    "- Consider the input parameters required for each function and their return values.\n",
    "- Utilize function parameters and return values to transfer data between functions.\n",
    "- Test your functions individually to ensure they work correctly.\n",
    "\n",
    "\n"
   ]
  },
  {
   "cell_type": "markdown",
   "id": "e3318502",
   "metadata": {},
   "source": [
    "<h1>EJERCICIO 1<h1>"
   ]
  },
  {
   "cell_type": "code",
   "execution_count": 1,
   "id": "6f70f3d7",
   "metadata": {},
   "outputs": [],
   "source": [
    "inventory = {}"
   ]
  },
  {
   "cell_type": "code",
   "execution_count": 2,
   "id": "d47bdbfa",
   "metadata": {},
   "outputs": [
    {
     "data": {
      "text/plain": [
       "{'sandals': 0, 'glasses': 0, 'sneakers': 0}"
      ]
     },
     "execution_count": 2,
     "metadata": {},
     "output_type": "execute_result"
    }
   ],
   "source": [
    "def initialize_inventory(products, inventory):\n",
    "    \"\"\"Añadir productos.\"\"\"\n",
    "    for product in products:\n",
    "        response = input(f\"Añado '{product}' al inventario (si/no)? \").strip().lower() \n",
    "        if response == \"si\":\n",
    "            inventory[product] = 0\n",
    "        elif response == 'no':\n",
    "            continue\n",
    "    return inventory\n",
    "\n",
    "products = [\"sandals\", \"shoes\", \"glasses\", \"chandal\", \"sneakers\"]\n",
    "initialize_inventory(products, inventory)\n"
   ]
  },
  {
   "cell_type": "code",
   "execution_count": 3,
   "id": "01e0d8e5",
   "metadata": {},
   "outputs": [
    {
     "name": "stdout",
     "output_type": "stream",
     "text": [
      "\n",
      "Inventario:\n",
      "sandals\n",
      "glasses\n",
      "sneakers\n"
     ]
    }
   ],
   "source": [
    "print(\"\\nInventario:\")\n",
    "for product in inventory:\n",
    "    print(product)"
   ]
  },
  {
   "cell_type": "markdown",
   "id": "8fdf0270",
   "metadata": {},
   "source": [
    "<h1>EJERCICIO 2<h1>"
   ]
  },
  {
   "cell_type": "code",
   "execution_count": 6,
   "id": "9c90306d",
   "metadata": {},
   "outputs": [],
   "source": [
    "def get_customer_orders():\n",
    "    customer_orders = set()  \n",
    "    while True:  \n",
    "        product_name = input(\"Introduce el nombre del producto: \").strip()\n",
    "        if product_name == \"\":  \n",
    "            break\n",
    "        customer_orders.add(product_name)  \n",
    "    return customer_orders"
   ]
  },
  {
   "cell_type": "code",
   "execution_count": 7,
   "id": "b3f79b93",
   "metadata": {},
   "outputs": [],
   "source": [
    "customer_orders = get_customer_orders()\n"
   ]
  },
  {
   "cell_type": "code",
   "execution_count": 8,
   "id": "885f5037",
   "metadata": {},
   "outputs": [
    {
     "name": "stdout",
     "output_type": "stream",
     "text": [
      "Pedidos del cliente: {'flip-flops', 'bag'}\n"
     ]
    }
   ],
   "source": [
    "print(\"Pedidos del cliente:\", customer_orders)"
   ]
  },
  {
   "cell_type": "markdown",
   "id": "bb6ff253",
   "metadata": {},
   "source": [
    "<h1>EJERCICIO 3<h1>"
   ]
  },
  {
   "cell_type": "code",
   "execution_count": 9,
   "id": "f36dae56",
   "metadata": {},
   "outputs": [],
   "source": [
    "def update_inventory(customer_orders,inventory):\n",
    "    for order in customer_orders:\n",
    "        if order in inventory:\n",
    "            print(f\"El {customer_orders} ya esta en el inventario\")\n",
    "        else:\n",
    "            inventory[order] = 0\n",
    "    return inventory\n",
    "\n",
    "updated_inventory = update_inventory(customer_orders,inventory)\n"
   ]
  },
  {
   "cell_type": "code",
   "execution_count": 10,
   "id": "801c5616",
   "metadata": {},
   "outputs": [
    {
     "name": "stdout",
     "output_type": "stream",
     "text": [
      "Inventario actualizado: {'sandals': 0, 'glasses': 0, 'sneakers': 0, 'flip-flops': 0, 'bag': 0}\n"
     ]
    }
   ],
   "source": [
    "print(\"Inventario actualizado:\", updated_inventory)"
   ]
  },
  {
   "cell_type": "markdown",
   "id": "ae369f44",
   "metadata": {},
   "source": [
    "<h1>EJERCICIO 4<h1>"
   ]
  },
  {
   "cell_type": "code",
   "execution_count": 14,
   "id": "83187bbf",
   "metadata": {},
   "outputs": [
    {
     "name": "stdout",
     "output_type": "stream",
     "text": [
      "Total de productos únicos ordenados: 2\n",
      "Porcentaje de productos únicos pedidos: 40.0\n",
      "\n",
      "Estadísticas: (2, 40.0)\n"
     ]
    }
   ],
   "source": [
    "def calculate_order_statistics(customer_orders,products):\n",
    "    total_ordered = len(customer_orders) \n",
    "    total_products = len(products) \n",
    "    unique_ordered = len(set(customer_orders) -  set(products)) # Por lo que he entendido tienen que ser los que esten pedidos pero no en inventario\n",
    "    percentage_unique_ordered = (unique_ordered / total_products * 100) if total_products > 0 else 0\n",
    "    return total_ordered,  percentage_unique_ordered\n",
    "\n",
    "total_ordered, percentage_unique_ordered = calculate_order_statistics(customer_orders, products)\n",
    "print(\"Total de productos únicos ordenados:\", total_ordered)\n",
    "print(\"Porcentaje de productos únicos pedidos:\", percentage_unique_ordered)\n",
    "print(\"\\nEstadísticas:\", calculate_order_statistics(customer_orders, products))"
   ]
  },
  {
   "cell_type": "markdown",
   "id": "301685e3",
   "metadata": {},
   "source": [
    "<h1>EJERCICIO 5<h1>"
   ]
  },
  {
   "cell_type": "code",
   "execution_count": 15,
   "id": "d3097d67",
   "metadata": {},
   "outputs": [],
   "source": [
    "def print_order_statistics(total_ordered, percentage_unique_ordered):\n",
    "    print(f\"Total de productos únicos ordenados: {total_ordered}\")\n",
    "    print(f\"Porcentaje de productos únicos ordenados: {percentage_unique_ordered:.2f}%\")"
   ]
  },
  {
   "cell_type": "code",
   "execution_count": 16,
   "id": "545c0ff6",
   "metadata": {},
   "outputs": [
    {
     "name": "stdout",
     "output_type": "stream",
     "text": [
      "Total de productos únicos ordenados: 2\n",
      "Porcentaje de productos únicos ordenados: 40.00%\n"
     ]
    }
   ],
   "source": [
    "print_order_statistics(total_ordered, percentage_unique_ordered)"
   ]
  },
  {
   "cell_type": "markdown",
   "id": "e9619b84",
   "metadata": {},
   "source": [
    "<h1>EJERCICIO 6<h1>"
   ]
  },
  {
   "cell_type": "code",
   "execution_count": 17,
   "id": "fc7ab39c",
   "metadata": {},
   "outputs": [
    {
     "name": "stdout",
     "output_type": "stream",
     "text": [
      "Inventario actualizado: {'sandals': 0, 'glasses': 0, 'sneakers': 0, 'flip-flops': 0, 'bag': 0}\n"
     ]
    }
   ],
   "source": [
    "def print_updated_inventory(inventory):\n",
    "    print(f\"Inventario actualizado: {inventory}\")\n",
    "\n",
    "print_updated_inventory(inventory)"
   ]
  },
  {
   "cell_type": "markdown",
   "id": "47b5b31b",
   "metadata": {},
   "source": [
    "<h1>EJERCICIO 7<h1>"
   ]
  },
  {
   "cell_type": "code",
   "execution_count": 21,
   "id": "63b1fb00",
   "metadata": {},
   "outputs": [
    {
     "name": "stdout",
     "output_type": "stream",
     "text": [
      "Inventario actualizado: {'sandals': 0, 'shoes': 0, 'glasses': 0, 'hat': 0, 't-shirt': 0}\n",
      "Total de productos únicos pedidos: 2\n",
      "Porcentaje de productos únicos pedidos que no están en la lista de productos disponibles: 40.0\n"
     ]
    }
   ],
   "source": [
    "def main():\n",
    "    inventory = {}\n",
    "    products = [\"sandals\", \"shoes\", \"glasses\", \"chandal\", \"sneakers\"]\n",
    "    \n",
    "    inventory = initialize_inventory(products,inventory)\n",
    "    \n",
    "    customer_orders = get_customer_orders()\n",
    "    \n",
    "    updated_inventory = update_inventory(customer_orders, inventory)\n",
    "    print_updated_inventory(updated_inventory)\n",
    "\n",
    "    total_ordered,  percentage_unique_ordered = calculate_order_statistics(customer_orders, products)\n",
    "    print(\"Total de productos únicos pedidos:\", total_ordered)\n",
    "    print(\"Porcentaje de productos únicos pedidos que no están en la lista de productos disponibles:\", percentage_unique_ordered)\n",
    "\n",
    "if __name__ == \"__main__\":\n",
    "    main()\n"
   ]
  }
 ],
 "metadata": {
  "kernelspec": {
   "display_name": "Python 3 (ipykernel)",
   "language": "python",
   "name": "python3"
  },
  "language_info": {
   "codemirror_mode": {
    "name": "ipython",
    "version": 3
   },
   "file_extension": ".py",
   "mimetype": "text/x-python",
   "name": "python",
   "nbconvert_exporter": "python",
   "pygments_lexer": "ipython3",
   "version": "3.7.9"
  }
 },
 "nbformat": 4,
 "nbformat_minor": 5
}
